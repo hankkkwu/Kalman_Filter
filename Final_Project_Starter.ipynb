{
  "nbformat": 4,
  "nbformat_minor": 0,
  "metadata": {
    "colab": {
      "name": "Final_Project_Starter.ipynb",
      "provenance": [],
      "collapsed_sections": []
    },
    "kernelspec": {
      "name": "python3",
      "display_name": "Python 3"
    }
  },
  "cells": [
    {
      "cell_type": "markdown",
      "metadata": {
        "id": "MKYTe8JLTarM"
      },
      "source": [
        "# FINAL PROJECT - TRACK THE BICYCLE\n",
        "\n",
        "The detection is out of the scope of the project, consider that for the following series of images, the bounding box are already calculated and returned in a file.\n",
        "\n",
        "You will track the bicycle using the measurements of the center of the detected Bounding Box.\n",
        "Here are the files that might help you:\n",
        "\n",
        "\n",
        "*   *VIRAT_S_010204_09_001285_001336.mp4* is the original image from the [VIRAT Video Dataset](https://viratdata.org)\n",
        "\n",
        "![alt text](https://raw.githubusercontent.com/Jeremy26/kalman_filters_course/master/images/screen_scene.png)\n",
        "\n",
        "*   *detect.mp4* is the same video, where we run a YOLOv3 object detector.\n",
        "\n",
        "![alt text](https://raw.githubusercontent.com/Jeremy26/kalman_filters_course/master/images/screen_detector.png)\n",
        "\n",
        "*   *track.mp4* will be your output with active tracking\n",
        "\n",
        "![alt text](https://raw.githubusercontent.com/Jeremy26/kalman_filters_course/master/images/screen_active_tracker.png)\n",
        "\n",
        "**About the dataset**\n",
        "A Large-scale Benchmark Dataset for Event Recognition in Surveillance Video\" by Sangmin Oh, Anthony Hoogs, Amitha Perera, Naresh Cuntoor, Chia-Chih Chen, Jong Taek Lee, Saurajit Mukherjee, J.K. Aggarwal, Hyungtae Lee, Larry Davis, Eran Swears, Xiaoyang Wang, Qiang Ji, Kishore Reddy, Mubarak Shah, Carl Vondrick, Hamed Pirsiavash, Deva Ramanan, Jenny Yuen, Antonio Torralba, Bi Song, Anesco Fong, Amit Roy-Chowdhury, and Mita Desai, in Proceedings of IEEE Comptuer Vision and Pattern Recognition (CVPR), 2011.\n",
        "[Access Link](https://viratdata.org).\n",
        "\n",
        "**About the project** <p>\n",
        "You are given an image detection algorithm that isn't ideal. Sometimes, the algorithm fails and misses the target. These happen during occlusion or failures from the algorithm for various reasons.\n",
        "Using a Kalman Filter is an effective way to keep track of the data; and that's exactly what we'll do!\n",
        "\n",
        "**The goal of the project will be to use a Kalman Filter to continue tracking the pedestrian even when the detector fails. You'll have to include the detector's measurements to improve the filter and help it converge.**\n"
      ]
    },
    {
      "cell_type": "markdown",
      "metadata": {
        "id": "eLwj9ODZu8Us"
      },
      "source": [
        "## Colab Link & Imports"
      ]
    },
    {
      "cell_type": "code",
      "metadata": {
        "id": "suWb-fkrTWi3",
        "colab": {
          "base_uri": "https://localhost:8080/"
        },
        "outputId": "1f5a3577-2cf8-4f61-aa95-3053ad3d4e6b"
      },
      "source": [
        "import os\n",
        "from google.colab import drive\n",
        "drive.mount('/content/drive', force_remount=False)\n",
        "\n",
        "# os.chdir(\"/content/drive/My Drive/Think Autonomous/SDC Course\")\n",
        "os.chdir(\"/content/drive/My Drive/kalman_filters_course\")\n",
        "!ls"
      ],
      "execution_count": null,
      "outputs": [
        {
          "output_type": "stream",
          "text": [
            "Mounted at /content/drive\n",
            "'Designing a Kalman Filter.ipynb'\t    images\n",
            "'Designing a Kalman Filter Starter.ipynb'   Probabilities.ipynb\n",
            " Final_Project.ipynb\t\t\t    README.md\n",
            " Final_Project_Starter.ipynb\n"
          ],
          "name": "stdout"
        }
      ]
    },
    {
      "cell_type": "code",
      "metadata": {
        "id": "FWvjAVpte2Nz"
      },
      "source": [
        "import matplotlib.image as mpimg\n",
        "import matplotlib.pyplot as plt\n",
        "import copy\n",
        "import pickle\n",
        "import numpy as np\n",
        "import time\n",
        "import cv2"
      ],
      "execution_count": null,
      "outputs": []
    },
    {
      "cell_type": "markdown",
      "metadata": {
        "id": "cI5Zs05hWWvb"
      },
      "source": [
        "# Step 1 - The System\n",
        "You are given a video that will be processed frame by frame. <p>\n",
        "\n",
        "*   Sometimes, the algorithm processing the frame will return **an (X,Y) coordinate** indicating where the bicycle is supposed to be as well as a timestamp.\n",
        "*   Sometimes, it won't and will return **\"Not detected\"**, which we know to be wrong.\n"
      ]
    },
    {
      "cell_type": "code",
      "metadata": {
        "id": "KvL1x0nrEf_k"
      },
      "source": [
        "## CODE TO DETECT OBSTACLES -- NOT NEEDED\n",
        "from Tracking.yolo_for_tracking_2 import *\n",
        "\n",
        "detector = YOLO()\n",
        "BICYCLE_MEASUREMENTS = []\n",
        "TIMESTAMPS = []\n",
        "\n",
        "def detection(image):\n",
        "    # Run an inference using YOLOv3\n",
        "    result_img, result_boxes = detector.inference(image)\n",
        "    # Store the timestamp\n",
        "    TIMESTAMPS.append(time.time())\n",
        "    # If there is a bounding box, add the center\n",
        "    if len(result_boxes) >0:\n",
        "        BICYCLE_MEASUREMENTS.append([result_boxes[0][0]+ result_boxes[0][2]/2, result_boxes[0][1]+ result_boxes[0][3]/2])\n",
        "    # Else, add \"Not detected\"\n",
        "    else:\n",
        "        BICYCLE_MEASUREMENTS.append(\"Not detected\")\n",
        "    return result_img"
      ],
      "execution_count": null,
      "outputs": []
    },
    {
      "cell_type": "code",
      "metadata": {
        "id": "ZnXwCHCwELwQ"
      },
      "source": [
        "## CODE TO DETECT OBSTACLES -- NOT NEEDED\n",
        "from moviepy.editor import VideoFileClip\n",
        "video_file = \"/content/drive/My Drive/kalman_filters_course/images/VIRAT_S_010204_09_001285_001336.mp4\"\n",
        "clip = VideoFileClip(video_file).subclip(15,25)\n",
        "white_clip = clip.fl_image(detection)\n",
        "%time white_clip.write_videofile(\"/content/drive/My Drive/kalman_filters_course/images/Kalman Filters/detect.mp4\",audio=False)"
      ],
      "execution_count": null,
      "outputs": []
    },
    {
      "cell_type": "code",
      "metadata": {
        "id": "vHB9ZMm5wNsz"
      },
      "source": [
        "BICYCLE_MEASUREMENTS = [[264.0, 320.5], 'Not detected', [276.5, 324.0], [278.0, 323.5], [281.0, 322.5], [284.5, 323.5], [285.0, 324.0], [287.5, 324.0], [299.5, 326.5], [303.0, 327.0], [305.0, 326.5], [307.0, 327.0], [310.5, 326.5], [313.5, 323.5], [325.0, 323.5], [324.0, 326.5], [327.0, 327.0], [332.5, 327.0], [337.5, 323.5], [341.0, 324.0], [349.5, 325.5], [351.5, 325.5], [353.5, 325.0], [356.0, 325.0], [359.0, 325.0], [363.0, 325.0], [365.0, 322.5], [366.0, 322.5], [365.5, 322.0], [373.0, 325.5], [374.0, 325.0], [378.0, 324.5], [380.5, 323.5], [382.0, 323.5], [383.0, 324.0], [384.0, 323.0], [387.0, 322.0], [389.5, 322.0], [390.0, 321.5], [395.0, 324.0], [396.0, 322.5], [397.5, 323.5], [398.5, 323.0], [402.0, 322.5], [407.0, 336.0], [407.5, 335.5], [412.0, 336.0], [413.0, 336.5], [412.0, 339.5], [420.5, 337.0], [421.5, 336.0], [422.0, 336.0], [424.0, 336.0], [428.5, 336.5], [430.0, 337.0], [434.0, 337.5], [434.5, 337.0], [437.5, 336.5], [438.5, 336.0], 'Not detected', 'Not detected', [451.5, 336.5], [454.0, 336.5], 'Not detected', 'Not detected', [460.0, 336.5], 'Not detected', [462.5, 336.0], 'Not detected', 'Not detected', [473.0, 336.0], 'Not detected', 'Not detected', 'Not detected', [483.0, 335.5], 'Not detected', 'Not detected', 'Not detected', 'Not detected', 'Not detected', 'Not detected', 'Not detected', 'Not detected', 'Not detected', 'Not detected', 'Not detected', 'Not detected', 'Not detected', 'Not detected', 'Not detected', 'Not detected', 'Not detected', [527.5, 351.0], 'Not detected', 'Not detected', 'Not detected', 'Not detected', 'Not detected', 'Not detected', 'Not detected', 'Not detected', 'Not detected', 'Not detected', 'Not detected', 'Not detected', 'Not detected', 'Not detected', 'Not detected', 'Not detected', 'Not detected', 'Not detected', 'Not detected', 'Not detected', [596.0, 381.0], [597.0, 365.0], [600.0, 380.0], [605.0, 380.0], [607.0, 381.0], [608.0, 381.0], [612.0, 380.0], [612.0, 380.0], [619.0, 383.0], [620.0, 382.5], [624.0, 392.0], [625.5, 392.0], [628.0, 380.5], [630.0, 393.5], [633.0, 393.0], [635.0, 394.0], [637.0, 394.0], [637.0, 395.0], [644.0, 397.0], [644.0, 397.0], [646.0, 395.5], [647.5, 394.5], [651.5, 393.5], 'Not detected', [655.0, 407.0], [656.0, 391.0], 'Not detected', 'Not detected', 'Not detected', 'Not detected', [669.0, 410.0], [669.0, 410.0], [673.0, 419.5], [675.0, 422.5], [679.5, 422.5], [680.5, 424.5], [683.0, 424.5], [685.0, 426.0], [686.0, 432.0], [695.0, 433.5], [694.5, 434.5], [696.5, 437.0], [700.0, 421.5], [700.0, 421.5], [705.0, 421.5], [708.0, 423.0], [709.0, 424.5], [712.5, 427.0], [715.0, 426.5], [716.0, 429.5], [718.5, 431.5], [722.0, 434.0], [724.5, 433.5], [725.0, 434.5], 'Not detected', 'Not detected', 'Not detected', [744.0, 466.0], [745.5, 453.0], [747.5, 455.0], [749.5, 453.5], [752.0, 455.0], [750.5, 457.0], 'Not detected', 'Not detected', 'Not detected', [761.0, 475.5], [761.0, 475.5], [762.5, 475.5], [764.0, 478.0], 'Not detected', 'Not detected', 'Not detected', 'Not detected', 'Not detected', 'Not detected', 'Not detected', 'Not detected', 'Not detected', 'Not detected', 'Not detected', 'Not detected', 'Not detected', 'Not detected', 'Not detected', 'Not detected', [805.5, 537.0], [809.5, 536.5], [811.0, 536.5], [815.0, 538.0], 'Not detected', 'Not detected', [825.5, 563.0], 'Not detected', [842.5, 567.0], [844.5, 571.0], [845.5, 588.5], [852.0, 589.5], [857.0, 591.5], [864.0, 621.0], [868.0, 622.0], [874.0, 624.0], [891.0, 620.5], [891.0, 620.5], [897.5, 622.5], [909.0, 651.0], [919.5, 651.0], [928.0, 626.5], 'Not detected', [948.0, 648.5], [955.5, 647.0], [971.5, 641.0], [976.5, 678.0], [993.0, 682.0], [1008.5, 685.0], [1008.5, 685.0], [1018.5, 688.0], [1048.5, 687.5], 'Not detected', 'Not detected', 'Not detected', 'Not detected', 'Not detected', 'Not detected', 'Not detected', 'Not detected', 'Not detected', 'Not detected']\n",
        "TIMESTAMPS = [1595343383.4528093, 1595343385.1370091, 1595343386.7868967, 1595343388.4632287, 1595343390.1011188, 1595343391.7460542, 1595343393.39343, 1595343395.028878, 1595343396.6552625, 1595343398.311383, 1595343399.9449534, 1595343401.5756452, 1595343403.253039, 1595343404.8913975, 1595343406.5174625, 1595343408.1842604, 1595343409.8111398, 1595343411.4432359, 1595343413.068713, 1595343414.6940196, 1595343416.3461204, 1595343417.9728732, 1595343419.6360095, 1595343421.2727242, 1595343422.934089, 1595343424.5932963, 1595343426.2158902, 1595343427.882905, 1595343429.5383394, 1595343431.1689167, 1595343432.7992053, 1595343434.4365535, 1595343436.093556, 1595343437.739813, 1595343439.3699863, 1595343441.026304, 1595343442.6605077, 1595343444.2896566, 1595343445.9262085, 1595343447.5629303, 1595343449.1896112, 1595343450.838177, 1595343452.4649684, 1595343454.2198577, 1595343455.8605254, 1595343457.4931364, 1595343459.137956, 1595343460.8218405, 1595343462.4845269, 1595343464.1445982, 1595343465.8397083, 1595343467.4892106, 1595343469.1747668, 1595343470.8333223, 1595343472.5270133, 1595343474.1908607, 1595343475.8525598, 1595343477.520469, 1595343479.1996396, 1595343480.9057856, 1595343482.604339, 1595343484.2830782, 1595343485.9620562, 1595343487.6216116, 1595343489.285687, 1595343490.9448197, 1595343492.599015, 1595343494.262499, 1595343495.9328613, 1595343497.604377, 1595343499.2598104, 1595343500.919045, 1595343502.5755124, 1595343504.2685933, 1595343505.9388247, 1595343507.6111808, 1595343509.727008, 1595343512.6301236, 1595343515.2081826, 1595343516.8960044, 1595343518.562933, 1595343520.223518, 1595343521.8825817, 1595343523.5388012, 1595343525.2359374, 1595343526.9006064, 1595343528.5632, 1595343530.250608, 1595343531.9128368, 1595343533.5599396, 1595343535.2325077, 1595343536.8938165, 1595343538.5590377, 1595343540.213533, 1595343541.8728576, 1595343543.534645, 1595343545.2209647, 1595343546.886572, 1595343548.5626056, 1595343550.2205744, 1595343551.8829527, 1595343553.5659046, 1595343555.2469, 1595343556.9008927, 1595343558.5652347, 1595343560.2281246, 1595343561.8948984, 1595343563.5591393, 1595343565.215573, 1595343566.8824282, 1595343568.5690107, 1595343570.2471654, 1595343571.9168723, 1595343573.5790687, 1595343575.2646444, 1595343576.9260058, 1595343578.6006463, 1595343580.262466, 1595343581.9326503, 1595343583.6091404, 1595343585.3043597, 1595343586.98645, 1595343588.677084, 1595343590.3740606, 1595343592.2494593, 1595343594.0968316, 1595343595.9687498, 1595343597.7663443, 1595343599.5230067, 1595343601.2006478, 1595343602.8708787, 1595343604.5619361, 1595343606.240997, 1595343607.9550593, 1595343609.640338, 1595343611.3281717, 1595343612.9923398, 1595343614.6791606, 1595343616.3586695, 1595343618.03751, 1595343619.7365143, 1595343621.4086063, 1595343623.0755863, 1595343624.7747118, 1595343626.4529173, 1595343628.1450953, 1595343629.8409429, 1595343631.5103605, 1595343633.2032287, 1595343634.8988585, 1595343636.5533113, 1595343638.2447634, 1595343639.9315574, 1595343641.6105409, 1595343643.3112786, 1595343644.9819617, 1595343646.6454144, 1595343648.3410013, 1595343650.0291924, 1595343651.7229924, 1595343653.4247396, 1595343655.0940385, 1595343656.766598, 1595343658.481635, 1595343660.1688697, 1595343661.851529, 1595343663.533179, 1595343665.2161155, 1595343666.9030716, 1595343668.6122663, 1595343670.3100102, 1595343671.9878461, 1595343673.6751158, 1595343675.361766, 1595343677.0522666, 1595343678.7405472, 1595343680.4148567, 1595343682.0903854, 1595343683.766348, 1595343685.4356513, 1595343687.1099372, 1595343688.82005, 1595343690.4986932, 1595343692.191855, 1595343693.8794398, 1595343695.5785794, 1595343697.2438045, 1595343698.998921, 1595343700.696096, 1595343702.375422, 1595343704.0798686, 1595343705.765661, 1595343707.4556317, 1595343709.2128184, 1595343710.8825693, 1595343712.5990374, 1595343714.2921202, 1595343715.9963896, 1595343717.6725974, 1595343719.3480031, 1595343721.0423503, 1595343722.7256033, 1595343724.4065895, 1595343726.0711443, 1595343727.7579536, 1595343729.4652514, 1595343731.1564894, 1595343732.8382416, 1595343734.516435, 1595343736.182922, 1595343737.882777, 1595343739.5695834, 1595343741.241596, 1595343742.9077015, 1595343744.5780733, 1595343746.2444737, 1595343747.9014044, 1595343749.56856, 1595343751.2365348, 1595343752.9167588, 1595343754.582135, 1595343756.2607112, 1595343757.9484925, 1595343759.6065814, 1595343761.2696397, 1595343762.9366505, 1595343764.5937672, 1595343766.266156, 1595343767.931009, 1595343769.606072, 1595343771.286105, 1595343772.9624963, 1595343774.622179, 1595343776.2862227, 1595343777.9396627, 1595343779.597795, 1595343781.266818, 1595343782.9147005, 1595343784.5958788, 1595343786.2695682, 1595343787.937123]"
      ],
      "execution_count": null,
      "outputs": []
    },
    {
      "cell_type": "code",
      "metadata": {
        "id": "N0MvgnAwodWI",
        "colab": {
          "base_uri": "https://localhost:8080/"
        },
        "outputId": "539de5dd-8e80-43b7-81f2-0466dbc0fd8d"
      },
      "source": [
        "print(BICYCLE_MEASUREMENTS)   # the measurement is the center of the bounding box\n",
        "print(len(BICYCLE_MEASUREMENTS))\n",
        "print(TIMESTAMPS)\n",
        "print(len(TIMESTAMPS))"
      ],
      "execution_count": null,
      "outputs": [
        {
          "output_type": "stream",
          "text": [
            "[[264.0, 320.5], 'Not detected', [276.5, 324.0], [278.0, 323.5], [281.0, 322.5], [284.5, 323.5], [285.0, 324.0], [287.5, 324.0], [299.5, 326.5], [303.0, 327.0], [305.0, 326.5], [307.0, 327.0], [310.5, 326.5], [313.5, 323.5], [325.0, 323.5], [324.0, 326.5], [327.0, 327.0], [332.5, 327.0], [337.5, 323.5], [341.0, 324.0], [349.5, 325.5], [351.5, 325.5], [353.5, 325.0], [356.0, 325.0], [359.0, 325.0], [363.0, 325.0], [365.0, 322.5], [366.0, 322.5], [365.5, 322.0], [373.0, 325.5], [374.0, 325.0], [378.0, 324.5], [380.5, 323.5], [382.0, 323.5], [383.0, 324.0], [384.0, 323.0], [387.0, 322.0], [389.5, 322.0], [390.0, 321.5], [395.0, 324.0], [396.0, 322.5], [397.5, 323.5], [398.5, 323.0], [402.0, 322.5], [407.0, 336.0], [407.5, 335.5], [412.0, 336.0], [413.0, 336.5], [412.0, 339.5], [420.5, 337.0], [421.5, 336.0], [422.0, 336.0], [424.0, 336.0], [428.5, 336.5], [430.0, 337.0], [434.0, 337.5], [434.5, 337.0], [437.5, 336.5], [438.5, 336.0], 'Not detected', 'Not detected', [451.5, 336.5], [454.0, 336.5], 'Not detected', 'Not detected', [460.0, 336.5], 'Not detected', [462.5, 336.0], 'Not detected', 'Not detected', [473.0, 336.0], 'Not detected', 'Not detected', 'Not detected', [483.0, 335.5], 'Not detected', 'Not detected', 'Not detected', 'Not detected', 'Not detected', 'Not detected', 'Not detected', 'Not detected', 'Not detected', 'Not detected', 'Not detected', 'Not detected', 'Not detected', 'Not detected', 'Not detected', 'Not detected', 'Not detected', [527.5, 351.0], 'Not detected', 'Not detected', 'Not detected', 'Not detected', 'Not detected', 'Not detected', 'Not detected', 'Not detected', 'Not detected', 'Not detected', 'Not detected', 'Not detected', 'Not detected', 'Not detected', 'Not detected', 'Not detected', 'Not detected', 'Not detected', 'Not detected', 'Not detected', [596.0, 381.0], [597.0, 365.0], [600.0, 380.0], [605.0, 380.0], [607.0, 381.0], [608.0, 381.0], [612.0, 380.0], [612.0, 380.0], [619.0, 383.0], [620.0, 382.5], [624.0, 392.0], [625.5, 392.0], [628.0, 380.5], [630.0, 393.5], [633.0, 393.0], [635.0, 394.0], [637.0, 394.0], [637.0, 395.0], [644.0, 397.0], [644.0, 397.0], [646.0, 395.5], [647.5, 394.5], [651.5, 393.5], 'Not detected', [655.0, 407.0], [656.0, 391.0], 'Not detected', 'Not detected', 'Not detected', 'Not detected', [669.0, 410.0], [669.0, 410.0], [673.0, 419.5], [675.0, 422.5], [679.5, 422.5], [680.5, 424.5], [683.0, 424.5], [685.0, 426.0], [686.0, 432.0], [695.0, 433.5], [694.5, 434.5], [696.5, 437.0], [700.0, 421.5], [700.0, 421.5], [705.0, 421.5], [708.0, 423.0], [709.0, 424.5], [712.5, 427.0], [715.0, 426.5], [716.0, 429.5], [718.5, 431.5], [722.0, 434.0], [724.5, 433.5], [725.0, 434.5], 'Not detected', 'Not detected', 'Not detected', [744.0, 466.0], [745.5, 453.0], [747.5, 455.0], [749.5, 453.5], [752.0, 455.0], [750.5, 457.0], 'Not detected', 'Not detected', 'Not detected', [761.0, 475.5], [761.0, 475.5], [762.5, 475.5], [764.0, 478.0], 'Not detected', 'Not detected', 'Not detected', 'Not detected', 'Not detected', 'Not detected', 'Not detected', 'Not detected', 'Not detected', 'Not detected', 'Not detected', 'Not detected', 'Not detected', 'Not detected', 'Not detected', 'Not detected', [805.5, 537.0], [809.5, 536.5], [811.0, 536.5], [815.0, 538.0], 'Not detected', 'Not detected', [825.5, 563.0], 'Not detected', [842.5, 567.0], [844.5, 571.0], [845.5, 588.5], [852.0, 589.5], [857.0, 591.5], [864.0, 621.0], [868.0, 622.0], [874.0, 624.0], [891.0, 620.5], [891.0, 620.5], [897.5, 622.5], [909.0, 651.0], [919.5, 651.0], [928.0, 626.5], 'Not detected', [948.0, 648.5], [955.5, 647.0], [971.5, 641.0], [976.5, 678.0], [993.0, 682.0], [1008.5, 685.0], [1008.5, 685.0], [1018.5, 688.0], [1048.5, 687.5], 'Not detected', 'Not detected', 'Not detected', 'Not detected', 'Not detected', 'Not detected', 'Not detected', 'Not detected', 'Not detected', 'Not detected']\n",
            "241\n",
            "[1595343383.4528093, 1595343385.1370091, 1595343386.7868967, 1595343388.4632287, 1595343390.1011188, 1595343391.7460542, 1595343393.39343, 1595343395.028878, 1595343396.6552625, 1595343398.311383, 1595343399.9449534, 1595343401.5756452, 1595343403.253039, 1595343404.8913975, 1595343406.5174625, 1595343408.1842604, 1595343409.8111398, 1595343411.4432359, 1595343413.068713, 1595343414.6940196, 1595343416.3461204, 1595343417.9728732, 1595343419.6360095, 1595343421.2727242, 1595343422.934089, 1595343424.5932963, 1595343426.2158902, 1595343427.882905, 1595343429.5383394, 1595343431.1689167, 1595343432.7992053, 1595343434.4365535, 1595343436.093556, 1595343437.739813, 1595343439.3699863, 1595343441.026304, 1595343442.6605077, 1595343444.2896566, 1595343445.9262085, 1595343447.5629303, 1595343449.1896112, 1595343450.838177, 1595343452.4649684, 1595343454.2198577, 1595343455.8605254, 1595343457.4931364, 1595343459.137956, 1595343460.8218405, 1595343462.4845269, 1595343464.1445982, 1595343465.8397083, 1595343467.4892106, 1595343469.1747668, 1595343470.8333223, 1595343472.5270133, 1595343474.1908607, 1595343475.8525598, 1595343477.520469, 1595343479.1996396, 1595343480.9057856, 1595343482.604339, 1595343484.2830782, 1595343485.9620562, 1595343487.6216116, 1595343489.285687, 1595343490.9448197, 1595343492.599015, 1595343494.262499, 1595343495.9328613, 1595343497.604377, 1595343499.2598104, 1595343500.919045, 1595343502.5755124, 1595343504.2685933, 1595343505.9388247, 1595343507.6111808, 1595343509.727008, 1595343512.6301236, 1595343515.2081826, 1595343516.8960044, 1595343518.562933, 1595343520.223518, 1595343521.8825817, 1595343523.5388012, 1595343525.2359374, 1595343526.9006064, 1595343528.5632, 1595343530.250608, 1595343531.9128368, 1595343533.5599396, 1595343535.2325077, 1595343536.8938165, 1595343538.5590377, 1595343540.213533, 1595343541.8728576, 1595343543.534645, 1595343545.2209647, 1595343546.886572, 1595343548.5626056, 1595343550.2205744, 1595343551.8829527, 1595343553.5659046, 1595343555.2469, 1595343556.9008927, 1595343558.5652347, 1595343560.2281246, 1595343561.8948984, 1595343563.5591393, 1595343565.215573, 1595343566.8824282, 1595343568.5690107, 1595343570.2471654, 1595343571.9168723, 1595343573.5790687, 1595343575.2646444, 1595343576.9260058, 1595343578.6006463, 1595343580.262466, 1595343581.9326503, 1595343583.6091404, 1595343585.3043597, 1595343586.98645, 1595343588.677084, 1595343590.3740606, 1595343592.2494593, 1595343594.0968316, 1595343595.9687498, 1595343597.7663443, 1595343599.5230067, 1595343601.2006478, 1595343602.8708787, 1595343604.5619361, 1595343606.240997, 1595343607.9550593, 1595343609.640338, 1595343611.3281717, 1595343612.9923398, 1595343614.6791606, 1595343616.3586695, 1595343618.03751, 1595343619.7365143, 1595343621.4086063, 1595343623.0755863, 1595343624.7747118, 1595343626.4529173, 1595343628.1450953, 1595343629.8409429, 1595343631.5103605, 1595343633.2032287, 1595343634.8988585, 1595343636.5533113, 1595343638.2447634, 1595343639.9315574, 1595343641.6105409, 1595343643.3112786, 1595343644.9819617, 1595343646.6454144, 1595343648.3410013, 1595343650.0291924, 1595343651.7229924, 1595343653.4247396, 1595343655.0940385, 1595343656.766598, 1595343658.481635, 1595343660.1688697, 1595343661.851529, 1595343663.533179, 1595343665.2161155, 1595343666.9030716, 1595343668.6122663, 1595343670.3100102, 1595343671.9878461, 1595343673.6751158, 1595343675.361766, 1595343677.0522666, 1595343678.7405472, 1595343680.4148567, 1595343682.0903854, 1595343683.766348, 1595343685.4356513, 1595343687.1099372, 1595343688.82005, 1595343690.4986932, 1595343692.191855, 1595343693.8794398, 1595343695.5785794, 1595343697.2438045, 1595343698.998921, 1595343700.696096, 1595343702.375422, 1595343704.0798686, 1595343705.765661, 1595343707.4556317, 1595343709.2128184, 1595343710.8825693, 1595343712.5990374, 1595343714.2921202, 1595343715.9963896, 1595343717.6725974, 1595343719.3480031, 1595343721.0423503, 1595343722.7256033, 1595343724.4065895, 1595343726.0711443, 1595343727.7579536, 1595343729.4652514, 1595343731.1564894, 1595343732.8382416, 1595343734.516435, 1595343736.182922, 1595343737.882777, 1595343739.5695834, 1595343741.241596, 1595343742.9077015, 1595343744.5780733, 1595343746.2444737, 1595343747.9014044, 1595343749.56856, 1595343751.2365348, 1595343752.9167588, 1595343754.582135, 1595343756.2607112, 1595343757.9484925, 1595343759.6065814, 1595343761.2696397, 1595343762.9366505, 1595343764.5937672, 1595343766.266156, 1595343767.931009, 1595343769.606072, 1595343771.286105, 1595343772.9624963, 1595343774.622179, 1595343776.2862227, 1595343777.9396627, 1595343779.597795, 1595343781.266818, 1595343782.9147005, 1595343784.5958788, 1595343786.2695682, 1595343787.937123]\n",
            "241\n"
          ],
          "name": "stdout"
        }
      ]
    },
    {
      "cell_type": "markdown",
      "metadata": {
        "id": "039F81XpwSsb"
      },
      "source": [
        "## Assigment - Design your Kalman Filter\n",
        "\n",
        "How will you make it work? Take a piece of paper and design your Kalman Filter.<p>\n",
        "**To do so, answer the following questions:**\n",
        "*   How will the mean and covariance be initialize?\n",
        "Ans: Initializing it with measurement. Since the YOLO detector is pretty good, we can set the P matrix to around 500 \n",
        "*   How will you initialize the other matrices?\n",
        "Ans: First we need to decide the state, and check what kind of measurement data do we have.\n",
        "*   What happens when nothing is detected? \n",
        "*   What happens during a detection?\n",
        "*   What Process Model (F) will you use?\n",
        "Ans: Here, I'm using the constant acceleration model"
      ]
    },
    {
      "cell_type": "markdown",
      "metadata": {
        "id": "suPAXmMYzJkd"
      },
      "source": [
        "# Step 2 - Implement the Filter\n",
        "\n",
        "Now, let's code the filter, you have total freedom here. Just make it work!"
      ]
    },
    {
      "cell_type": "code",
      "metadata": {
        "id": "7fiLWsm7ifRw",
        "colab": {
          "base_uri": "https://localhost:8080/"
        },
        "outputId": "bccf4b90-9835-4e97-e9d2-e3bcf1e025f0"
      },
      "source": [
        "!pip install filterpy"
      ],
      "execution_count": null,
      "outputs": [
        {
          "output_type": "stream",
          "text": [
            "Collecting filterpy\n",
            "\u001b[?25l  Downloading https://files.pythonhosted.org/packages/f6/1d/ac8914360460fafa1990890259b7fa5ef7ba4cd59014e782e4ab3ab144d8/filterpy-1.4.5.zip (177kB)\n",
            "\r\u001b[K     |█▉                              | 10kB 15.4MB/s eta 0:00:01\r\u001b[K     |███▊                            | 20kB 10.8MB/s eta 0:00:01\r\u001b[K     |█████▌                          | 30kB 6.9MB/s eta 0:00:01\r\u001b[K     |███████▍                        | 40kB 6.7MB/s eta 0:00:01\r\u001b[K     |█████████▏                      | 51kB 4.2MB/s eta 0:00:01\r\u001b[K     |███████████                     | 61kB 4.3MB/s eta 0:00:01\r\u001b[K     |████████████▉                   | 71kB 4.7MB/s eta 0:00:01\r\u001b[K     |██████████████▊                 | 81kB 4.9MB/s eta 0:00:01\r\u001b[K     |████████████████▋               | 92kB 5.2MB/s eta 0:00:01\r\u001b[K     |██████████████████▍             | 102kB 5.3MB/s eta 0:00:01\r\u001b[K     |████████████████████▎           | 112kB 5.3MB/s eta 0:00:01\r\u001b[K     |██████████████████████          | 122kB 5.3MB/s eta 0:00:01\r\u001b[K     |████████████████████████        | 133kB 5.3MB/s eta 0:00:01\r\u001b[K     |█████████████████████████▊      | 143kB 5.3MB/s eta 0:00:01\r\u001b[K     |███████████████████████████▋    | 153kB 5.3MB/s eta 0:00:01\r\u001b[K     |█████████████████████████████▌  | 163kB 5.3MB/s eta 0:00:01\r\u001b[K     |███████████████████████████████▎| 174kB 5.3MB/s eta 0:00:01\r\u001b[K     |████████████████████████████████| 184kB 5.3MB/s \n",
            "\u001b[?25hRequirement already satisfied: numpy in /usr/local/lib/python3.7/dist-packages (from filterpy) (1.19.5)\n",
            "Requirement already satisfied: scipy in /usr/local/lib/python3.7/dist-packages (from filterpy) (1.4.1)\n",
            "Requirement already satisfied: matplotlib in /usr/local/lib/python3.7/dist-packages (from filterpy) (3.2.2)\n",
            "Requirement already satisfied: pyparsing!=2.0.4,!=2.1.2,!=2.1.6,>=2.0.1 in /usr/local/lib/python3.7/dist-packages (from matplotlib->filterpy) (2.4.7)\n",
            "Requirement already satisfied: cycler>=0.10 in /usr/local/lib/python3.7/dist-packages (from matplotlib->filterpy) (0.10.0)\n",
            "Requirement already satisfied: kiwisolver>=1.0.1 in /usr/local/lib/python3.7/dist-packages (from matplotlib->filterpy) (1.3.1)\n",
            "Requirement already satisfied: python-dateutil>=2.1 in /usr/local/lib/python3.7/dist-packages (from matplotlib->filterpy) (2.8.1)\n",
            "Requirement already satisfied: six in /usr/local/lib/python3.7/dist-packages (from cycler>=0.10->matplotlib->filterpy) (1.15.0)\n",
            "Building wheels for collected packages: filterpy\n",
            "  Building wheel for filterpy (setup.py) ... \u001b[?25l\u001b[?25hdone\n",
            "  Created wheel for filterpy: filename=filterpy-1.4.5-cp37-none-any.whl size=110452 sha256=5923e3364276e1b7b85df911eb42f0de71602cac99da44bdabf5e37ca4b7d62f\n",
            "  Stored in directory: /root/.cache/pip/wheels/c3/0c/dd/e92392c3f38a41371602d99fc77d6c1d42aadbf0c6afccdd02\n",
            "Successfully built filterpy\n",
            "Installing collected packages: filterpy\n",
            "Successfully installed filterpy-1.4.5\n"
          ],
          "name": "stdout"
        }
      ]
    },
    {
      "cell_type": "code",
      "metadata": {
        "id": "cHm4lg2Es3ge"
      },
      "source": [
        "from filterpy.kalman import KalmanFilter\n",
        "from scipy.linalg import block_diag\n",
        "from filterpy.common import Q_discrete_white_noise\n",
        "import numpy as np\n",
        "import matplotlib.pyplot as plt\n",
        "\n",
        "def TwoDimensionsKF(R_std, Q_std, dt):\n",
        "    kf = KalmanFilter(dim_x=6, dim_z=2)\n",
        "    kf.F = np.array([[1, dt, 0.5*(dt**2), 0, 0, 0],\n",
        "                     [0, 1, dt, 0, 0, 0],\n",
        "                     [0, 0, 1, 0, 0, 0],\n",
        "                     [0, 0, 0, 1, dt, 0.5*(dt**2)],\n",
        "                     [0, 0, 0, 0, 1, dt],\n",
        "                     [0, 0, 0, 0, 0, 1]])\n",
        "    kf.P = np.eye(6) * 500\n",
        "    kf.R = np.eye(2) * R_std**2\n",
        "    q = Q_discrete_white_noise(dim=3, dt=dt, var=Q_std**2)\n",
        "    kf.Q = block_diag(q, q)\n",
        "    kf.H = np.array([[1, 0, 0, 0, 0, 0],\n",
        "                     [0, 0, 0, 1, 0, 0]])\n",
        "    return kf\n",
        "\n",
        "def TwoDimensionsKF_1(R_std, Q_std, dt):\n",
        "    kf = KalmanFilter(dim_x=4, dim_z=2)\n",
        "    kf.F = np.array([[1, dt, 0, 0],\n",
        "                     [0, 1, 0, 0],\n",
        "                     [0, 0, 1, dt],\n",
        "                     [0, 0, 0, 1]])\n",
        "    kf.P = np.eye(4) * 500\n",
        "    kf.R = np.eye(2) * R_std**2\n",
        "    q = Q_discrete_white_noise(dim=2, dt=dt, var=Q_std**2)\n",
        "    kf.Q = block_diag(q, q)\n",
        "    kf.H = np.array([[1, 0, 0, 0],\n",
        "                     [0, 0, 1, 0]])\n",
        "    return kf"
      ],
      "execution_count": null,
      "outputs": []
    },
    {
      "cell_type": "code",
      "metadata": {
        "colab": {
          "base_uri": "https://localhost:8080/"
        },
        "id": "fZjWTd15S_YF",
        "outputId": "711e96e0-2c18-4cf9-ce4f-cf0ed701981e"
      },
      "source": [
        "# calculate the average dt\r\n",
        "dt = np.sum(np.diff(TIMESTAMPS) / len(TIMESTAMPS))\r\n",
        "print(dt)"
      ],
      "execution_count": null,
      "outputs": [
        {
          "output_type": "stream",
          "text": [
            "1.6783581482424281\n"
          ],
          "name": "stdout"
        }
      ]
    },
    {
      "cell_type": "code",
      "metadata": {
        "id": "eUqq2p8UQTGc"
      },
      "source": [
        "kf = TwoDimensionsKF_1(5, 0.01, dt)\r\n",
        "# Using the first measurement as the initial state\r\n",
        "kf.x = np.array([BICYCLE_MEASUREMENTS[0][0], 0, BICYCLE_MEASUREMENTS[0][1], 0])"
      ],
      "execution_count": null,
      "outputs": []
    },
    {
      "cell_type": "code",
      "metadata": {
        "id": "KDex3XsG08JP"
      },
      "source": [
        "frame = 0\n",
        "cur_id = \"None\"\n",
        "pre_pos = np.array([0,0])\n",
        "def main_pipeline(image):\n",
        "    \"\"\"\n",
        "    Initialize a Kalman Filter, Run it, Make it converge!\n",
        "    \"\"\"\n",
        "    global frame\n",
        "    global kf\n",
        "    global pre_pos\n",
        "    global cur_id\n",
        "\n",
        "    measurement = BICYCLE_MEASUREMENTS[frame]\n",
        "    if measurement == \"Not detected\":\n",
        "      # if no measurement, we only do predict\n",
        "      kf.predict()\n",
        "      cv2.circle(image, (int(kf.x[0]), int(kf.x[2])), 5, (255,0,0), -1)\n",
        "      \n",
        "      if cur_id != \"None\":\n",
        "        threshold = 20\n",
        "        cur_pos = np.array([kf.x[0], kf.x[2]])\n",
        "        distance = np.linalg.norm(cur_pos - pre_pos)\n",
        "        if distance > threshold:\n",
        "          cur_id = cur_id + \"2\"\n",
        "        pre_pos = cur_pos\n",
        "        cv2.putText(image, cur_id, (int(kf.x[0])+10, int(kf.x[2])+10), cv2.FONT_HERSHEY_SIMPLEX, 1, (0,0,255), thickness=2)\n",
        "      \n",
        "    else:\n",
        "      kf.predict()\n",
        "      z = np.array([measurement[0], measurement[1]])\n",
        "      kf.update(z)\n",
        "\n",
        "      if cur_id == \"None\":\n",
        "        cur_id = \"ID1\"\n",
        "        pre_pos = np.array([kf.x[0], kf.x[2]])\n",
        "      else:\n",
        "        threshold = 20\n",
        "        cur_pos = np.array([kf.x[0], kf.x[2]])\n",
        "        distance = np.linalg.norm(cur_pos - pre_pos)\n",
        "        if distance > threshold:\n",
        "          cur_id = cur_id + \"1\"\n",
        "        pre_pos = cur_pos\n",
        "        \n",
        "      cv2.circle(image, (int(kf.x[0]), int(kf.x[2])), 5, (255,0,0), -1)\n",
        "      cv2.putText(image, cur_id, (int(kf.x[0])+10, int(kf.x[2])+10), cv2.FONT_HERSHEY_SIMPLEX, 1, (0,0,255), thickness=2)\n",
        "    frame += 1\n",
        "    return image"
      ],
      "execution_count": null,
      "outputs": []
    },
    {
      "cell_type": "code",
      "metadata": {
        "id": "beS5ORvDsuc3",
        "colab": {
          "base_uri": "https://localhost:8080/"
        },
        "outputId": "13a4e967-5117-499c-ec21-643bf76a4502"
      },
      "source": [
        "# THIS CODE IS FOR VIDEO PROCESSING\n",
        "# SEND AN IMAGE TO THE MAIN_PIPELINE FUNCTION, AND THE FUNCTION MUST RETURN AN IMAGE\n",
        "from moviepy.editor import VideoFileClip\n",
        "video_file = \"/content/drive/My Drive/kalman_filters_course/images/detect.mp4\"\n",
        "clip = VideoFileClip(video_file)\n",
        "tracked_clip = clip.fl_image(main_pipeline)\n",
        "%time tracked_clip.write_videofile(\"/content/drive/My Drive/kalman_filters_course/images/track.mp4\",audio=False)"
      ],
      "execution_count": null,
      "outputs": [
        {
          "output_type": "stream",
          "text": [
            "[MoviePy] >>>> Building video /content/drive/My Drive/kalman_filters_course/images/track.mp4\n",
            "[MoviePy] Writing video /content/drive/My Drive/kalman_filters_course/images/track.mp4\n"
          ],
          "name": "stdout"
        },
        {
          "output_type": "stream",
          "text": [
            "\n",
            "\n",
            "  0%|          | 0/241 [00:00<?, ?it/s]\u001b[A\u001b[A\n",
            "\n",
            "  2%|▏         | 6/241 [00:00<00:04, 55.72it/s]\u001b[A\u001b[A\n",
            "\n",
            "  5%|▍         | 11/241 [00:00<00:04, 53.56it/s]\u001b[A\u001b[A\n",
            "\n",
            "  7%|▋         | 16/241 [00:00<00:04, 52.21it/s]\u001b[A\u001b[A\n",
            "\n",
            "  9%|▉         | 22/241 [00:00<00:04, 51.77it/s]\u001b[A\u001b[A\n",
            "\n",
            " 12%|█▏        | 28/241 [00:00<00:04, 51.80it/s]\u001b[A\u001b[A\n",
            "\n",
            " 14%|█▎        | 33/241 [00:00<00:04, 50.85it/s]\u001b[A\u001b[A\n",
            "\n",
            " 16%|█▌        | 39/241 [00:00<00:03, 51.25it/s]\u001b[A\u001b[A\n",
            "\n",
            " 19%|█▊        | 45/241 [00:00<00:03, 51.51it/s]\u001b[A\u001b[A\n",
            "\n",
            " 21%|██        | 50/241 [00:01<00:07, 26.61it/s]\u001b[A\u001b[A\n",
            "\n",
            " 22%|██▏       | 54/241 [00:01<00:08, 20.80it/s]\u001b[A\u001b[A\n",
            "\n",
            " 24%|██▍       | 58/241 [00:01<00:09, 19.59it/s]\u001b[A\u001b[A\n",
            "\n",
            " 25%|██▌       | 61/241 [00:01<00:08, 20.39it/s]\u001b[A\u001b[A\n",
            "\n",
            " 27%|██▋       | 64/241 [00:02<00:09, 17.88it/s]\u001b[A\u001b[A\n",
            "\n",
            " 28%|██▊       | 67/241 [00:02<00:09, 17.47it/s]\u001b[A\u001b[A\n",
            "\n",
            " 29%|██▉       | 70/241 [00:02<00:09, 17.52it/s]\u001b[A\u001b[A\n",
            "\n",
            " 30%|██▉       | 72/241 [00:02<00:09, 17.27it/s]\u001b[A\u001b[A\n",
            "\n",
            " 31%|███       | 75/241 [00:02<00:09, 17.97it/s]\u001b[A\u001b[A\n",
            "\n",
            " 32%|███▏      | 77/241 [00:02<00:09, 18.14it/s]\u001b[A\u001b[A\n",
            "\n",
            " 33%|███▎      | 80/241 [00:03<00:08, 19.54it/s]\u001b[A\u001b[A\n",
            "\n",
            " 34%|███▍      | 83/241 [00:03<00:07, 21.40it/s]\u001b[A\u001b[A\n",
            "\n",
            " 36%|███▌      | 86/241 [00:03<00:07, 20.07it/s]\u001b[A\u001b[A\n",
            "\n",
            " 37%|███▋      | 89/241 [00:03<00:06, 22.09it/s]\u001b[A\u001b[A\n",
            "\n",
            " 38%|███▊      | 92/241 [00:03<00:06, 22.13it/s]\u001b[A\u001b[A\n",
            "\n",
            " 39%|███▉      | 95/241 [00:03<00:06, 21.35it/s]\u001b[A\u001b[A\n",
            "\n",
            " 41%|████      | 98/241 [00:03<00:06, 21.87it/s]\u001b[A\u001b[A\n",
            "\n",
            " 42%|████▏     | 101/241 [00:03<00:06, 22.26it/s]\u001b[A\u001b[A\n",
            "\n",
            " 43%|████▎     | 104/241 [00:04<00:06, 22.82it/s]\u001b[A\u001b[A\n",
            "\n",
            " 44%|████▍     | 107/241 [00:04<00:05, 24.20it/s]\u001b[A\u001b[A\n",
            "\n",
            " 46%|████▌     | 111/241 [00:04<00:05, 24.65it/s]\u001b[A\u001b[A\n",
            "\n",
            " 47%|████▋     | 114/241 [00:04<00:05, 22.62it/s]\u001b[A\u001b[A\n",
            "\n",
            " 49%|████▊     | 117/241 [00:04<00:06, 18.36it/s]\u001b[A\u001b[A\n",
            "\n",
            " 50%|████▉     | 120/241 [00:04<00:07, 17.24it/s]\u001b[A\u001b[A\n",
            "\n",
            " 51%|█████     | 122/241 [00:05<00:06, 17.34it/s]\u001b[A\u001b[A\n",
            "\n",
            " 51%|█████▏    | 124/241 [00:05<00:08, 13.98it/s]\u001b[A\u001b[A\n",
            "\n",
            " 53%|█████▎    | 127/241 [00:05<00:07, 14.65it/s]\u001b[A\u001b[A\n",
            "\n",
            " 54%|█████▎    | 129/241 [00:05<00:07, 15.59it/s]\u001b[A\u001b[A\n",
            "\n",
            " 54%|█████▍    | 131/241 [00:05<00:06, 15.75it/s]\u001b[A\u001b[A\n",
            "\n",
            " 55%|█████▌    | 133/241 [00:05<00:06, 15.57it/s]\u001b[A\u001b[A\n",
            "\n",
            " 56%|█████▌    | 135/241 [00:05<00:07, 14.44it/s]\u001b[A\u001b[A\n",
            "\n",
            " 57%|█████▋    | 137/241 [00:06<00:06, 15.72it/s]\u001b[A\u001b[A\n",
            "\n",
            " 58%|█████▊    | 139/241 [00:06<00:06, 15.24it/s]\u001b[A\u001b[A\n",
            "\n",
            " 59%|█████▉    | 142/241 [00:06<00:05, 17.29it/s]\u001b[A\u001b[A\n",
            "\n",
            " 60%|█████▉    | 144/241 [00:06<00:06, 15.64it/s]\u001b[A\u001b[A\n",
            "\n",
            " 61%|██████    | 146/241 [00:06<00:05, 16.33it/s]\u001b[A\u001b[A\n",
            "\n",
            " 61%|██████▏   | 148/241 [00:06<00:06, 14.62it/s]\u001b[A\u001b[A\n",
            "\n",
            " 62%|██████▏   | 150/241 [00:06<00:06, 14.36it/s]\u001b[A\u001b[A\n",
            "\n",
            " 63%|██████▎   | 152/241 [00:07<00:05, 15.04it/s]\u001b[A\u001b[A\n",
            "\n",
            " 64%|██████▍   | 154/241 [00:07<00:06, 13.45it/s]\u001b[A\u001b[A\n",
            "\n",
            " 65%|██████▌   | 157/241 [00:07<00:05, 14.89it/s]\u001b[A\u001b[A\n",
            "\n",
            " 66%|██████▌   | 159/241 [00:07<00:06, 13.15it/s]\u001b[A\u001b[A\n",
            "\n",
            " 67%|██████▋   | 161/241 [00:07<00:05, 13.56it/s]\u001b[A\u001b[A\n",
            "\n",
            " 68%|██████▊   | 163/241 [00:07<00:05, 13.98it/s]\u001b[A\u001b[A\n",
            "\n",
            " 68%|██████▊   | 165/241 [00:07<00:05, 13.32it/s]\u001b[A\u001b[A\n",
            "\n",
            " 70%|██████▉   | 168/241 [00:08<00:05, 14.43it/s]\u001b[A\u001b[A\n",
            "\n",
            " 71%|███████   | 170/241 [00:08<00:05, 13.98it/s]\u001b[A\u001b[A\n",
            "\n",
            " 71%|███████▏  | 172/241 [00:08<00:04, 13.98it/s]\u001b[A\u001b[A\n",
            "\n",
            " 72%|███████▏  | 174/241 [00:08<00:04, 14.36it/s]\u001b[A\u001b[A\n",
            "\n",
            " 73%|███████▎  | 176/241 [00:08<00:04, 13.79it/s]\u001b[A\u001b[A\n",
            "\n",
            " 74%|███████▍  | 179/241 [00:08<00:03, 15.51it/s]\u001b[A\u001b[A\n",
            "\n",
            " 75%|███████▌  | 181/241 [00:08<00:03, 15.55it/s]\u001b[A\u001b[A\n",
            "\n",
            " 76%|███████▌  | 183/241 [00:09<00:04, 14.36it/s]\u001b[A\u001b[A\n",
            "\n",
            " 77%|███████▋  | 186/241 [00:09<00:03, 16.75it/s]\u001b[A\u001b[A\n",
            "\n",
            " 78%|███████▊  | 189/241 [00:09<00:03, 15.51it/s]\u001b[A\u001b[A\n",
            "\n",
            " 80%|███████▉  | 192/241 [00:09<00:02, 17.40it/s]\u001b[A\u001b[A\n",
            "\n",
            " 81%|████████  | 195/241 [00:09<00:02, 18.50it/s]\u001b[A\u001b[A\n",
            "\n",
            " 82%|████████▏ | 197/241 [00:09<00:02, 16.68it/s]\u001b[A\u001b[A\n",
            "\n",
            " 83%|████████▎ | 200/241 [00:10<00:02, 16.99it/s]\u001b[A\u001b[A\n",
            "\n",
            " 84%|████████▍ | 202/241 [00:10<00:02, 15.08it/s]\u001b[A\u001b[A\n",
            "\n",
            " 85%|████████▌ | 205/241 [00:10<00:02, 17.27it/s]\u001b[A\u001b[A\n",
            "\n",
            " 86%|████████▌ | 207/241 [00:10<00:02, 13.43it/s]\u001b[A\u001b[A\n",
            "\n",
            " 87%|████████▋ | 209/241 [00:10<00:02, 14.36it/s]\u001b[A\u001b[A\n",
            "\n",
            " 88%|████████▊ | 211/241 [00:10<00:02, 13.72it/s]\u001b[A\u001b[A\n",
            "\n",
            " 88%|████████▊ | 213/241 [00:11<00:02, 13.70it/s]\u001b[A\u001b[A\n",
            "\n",
            " 89%|████████▉ | 215/241 [00:11<00:01, 13.68it/s]\u001b[A\u001b[A\n",
            "\n",
            " 90%|█████████ | 217/241 [00:11<00:01, 14.39it/s]\u001b[A\u001b[A\n",
            "\n",
            " 91%|█████████ | 219/241 [00:11<00:01, 13.14it/s]\u001b[A\u001b[A\n",
            "\n",
            " 92%|█████████▏| 221/241 [00:11<00:01, 12.82it/s]\u001b[A\u001b[A\n",
            "\n",
            " 93%|█████████▎| 224/241 [00:11<00:01, 13.51it/s]\u001b[A\u001b[A\n",
            "\n",
            " 94%|█████████▍| 226/241 [00:11<00:01, 14.22it/s]\u001b[A\u001b[A\n",
            "\n",
            " 95%|█████████▍| 228/241 [00:12<00:00, 14.01it/s]\u001b[A\u001b[A\n",
            "\n",
            " 95%|█████████▌| 230/241 [00:12<00:00, 14.86it/s]\u001b[A\u001b[A\n",
            "\n",
            " 96%|█████████▋| 232/241 [00:12<00:00, 15.15it/s]\u001b[A\u001b[A\n",
            "\n",
            " 98%|█████████▊| 235/241 [00:12<00:00, 17.60it/s]\u001b[A\u001b[A\n",
            "\n",
            "100%|█████████▉| 240/241 [00:12<00:00, 19.03it/s]\n"
          ],
          "name": "stderr"
        },
        {
          "output_type": "stream",
          "text": [
            "[MoviePy] Done.\n",
            "[MoviePy] >>>> Video ready: /content/drive/My Drive/kalman_filters_course/images/track.mp4 \n",
            "\n",
            "CPU times: user 1.88 s, sys: 6.78 s, total: 8.67 s\n",
            "Wall time: 13.8 s\n"
          ],
          "name": "stdout"
        }
      ]
    },
    {
      "cell_type": "markdown",
      "metadata": {
        "id": "_QRgyBGeHrNN"
      },
      "source": [
        "![alt text](https://drive.google.com/file/d/1sGBFtASrJ-03yKSiQz0wzAmFr1OEwFZH/view?usp=sharing)"
      ]
    }
  ]
}